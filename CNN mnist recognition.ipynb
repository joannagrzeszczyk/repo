{
 "cells": [
  {
   "cell_type": "markdown",
   "metadata": {},
   "source": [
    "# IMPORTS"
   ]
  },
  {
   "cell_type": "code",
   "execution_count": 1,
   "metadata": {},
   "outputs": [],
   "source": [
    "import numpy as np\n",
    "from tensorflow.examples.tutorials.mnist import input_data\n",
    "import tensorflow as tf\n",
    "import matplotlib.pyplot as plt\n",
    "import numpy as np"
   ]
  },
  {
   "cell_type": "markdown",
   "metadata": {},
   "source": [
    "# MODEL IMPLEMENTATION"
   ]
  },
  {
   "cell_type": "code",
   "execution_count": 19,
   "metadata": {},
   "outputs": [],
   "source": [
    "#GLOBAL PARAMS\n",
    "\n",
    "LR = 0.001\n",
    "EPOCHS = 1500\n",
    "BATCH_SIZE = 128\n",
    "\n",
    "HEIGHT=28\n",
    "WIDTH=28\n",
    "INPUT_NUM = HEIGHT*WIDTH\n",
    "\n",
    "CHANNELS_NUM=1\n",
    "CLASS_NUM=10"
   ]
  },
  {
   "cell_type": "code",
   "execution_count": 20,
   "metadata": {
    "scrolled": true
   },
   "outputs": [
    {
     "name": "stdout",
     "output_type": "stream",
     "text": [
      "INFO:tensorflow:Using default config.\n",
      "WARNING:tensorflow:Using temporary folder as model directory: C:\\Users\\micha\\AppData\\Local\\Temp\\tmp4rm850c0\n",
      "INFO:tensorflow:Using config: {'_model_dir': 'C:\\\\Users\\\\micha\\\\AppData\\\\Local\\\\Temp\\\\tmp4rm850c0', '_tf_random_seed': None, '_save_summary_steps': 100, '_save_checkpoints_steps': None, '_save_checkpoints_secs': 600, '_session_config': allow_soft_placement: true\n",
      "graph_options {\n",
      "  rewrite_options {\n",
      "    meta_optimizer_iterations: ONE\n",
      "  }\n",
      "}\n",
      ", '_keep_checkpoint_max': 5, '_keep_checkpoint_every_n_hours': 10000, '_log_step_count_steps': 100, '_train_distribute': None, '_device_fn': None, '_protocol': None, '_eval_distribute': None, '_experimental_distribute': None, '_experimental_max_worker_delay_secs': None, '_session_creation_timeout_secs': 7200, '_service': None, '_cluster_spec': <tensorflow.python.training.server_lib.ClusterSpec object at 0x000002488D332710>, '_task_type': 'worker', '_task_id': 0, '_global_id_in_cluster': 0, '_master': '', '_evaluation_master': '', '_is_chief': True, '_num_ps_replicas': 0, '_num_worker_replicas': 1}\n",
      "Extracting /tmp/data/train-images-idx3-ubyte.gz\n",
      "Extracting /tmp/data/train-labels-idx1-ubyte.gz\n",
      "Extracting /tmp/data/t10k-images-idx3-ubyte.gz\n",
      "Extracting /tmp/data/t10k-labels-idx1-ubyte.gz\n"
     ]
    }
   ],
   "source": [
    "def CONV_NN(X, reuse, is_training):\n",
    "    \n",
    "    with tf.variable_scope('Conv_nn', reuse=reuse):\n",
    "        X = tf.reshape(X, shape=[-1, HEIGHT, WIDTH, CHANNELS_NUM])\n",
    "        lay1 = tf.layers.max_pooling2d(tf.layers.conv2d(X, 16, 4, activation=tf.nn.relu), 2, 2)\n",
    "        lay2 = tf.layers.max_pooling2d(tf.layers.conv2d(lay1, 32, 2, activation=tf.nn.relu), 2, 2)\n",
    "        lay3 = tf.layers.dense(tf.contrib.layers.flatten(lay2), 512)\n",
    "        lay4 = tf.layers.dropout(lay3, rate=0.2, training=is_training)\n",
    "        lay5 = tf.layers.dense(lay4, CLASS_NUM)\n",
    "        \n",
    "        return lay5\n",
    "\n",
    "def model_fn(features, labels, mode):\n",
    "    \n",
    "    X = features[FEAT_NAME]\n",
    "    \n",
    "    #train logits\n",
    "    #reuse is set to false, because layers' variables are non-existent, thus created not reused\n",
    "    l_train = CONV_NN(X, False, True)\n",
    "    #test logits (reusing trained variables, is_training is set to false, so there's no dropout)\n",
    "    l_test = CONV_NN(X, True, False)\n",
    "    \n",
    "    if mode == tf.estimator.ModeKeys.PREDICT:\n",
    "        #just using trained layers and aplying arg_max function so the class with highest probability is chosen\n",
    "        return tf.estimator.EstimatorSpec(mode, predictions=tf.argmax(l_test, axis=1))\n",
    "    \n",
    "    #optimizer\n",
    "    optimizer = tf.train.AdamOptimizer(learning_rate=LR)\n",
    "    #loss function for logits\n",
    "    loss_func = tf.reduce_mean(tf.nn.sparse_softmax_cross_entropy_with_logits(logits=l_train, \n",
    "                                                                             labels=tf.cast(labels, dtype=tf.int32)))\n",
    "    \n",
    "    #construction of training (loss function optimization) process\n",
    "    training_func = optimizer.minimize(loss_func, global_step=tf.train.get_global_step())\n",
    "    #contruction of accuracy calculation\n",
    "    accuracy_func = tf.metrics.accuracy(labels=labels, predictions=tf.argmax(l_test, axis=1))\n",
    "    \n",
    "    #the model_fn function must return EstimatorSpec object\n",
    "    \n",
    "    return tf.estimator.EstimatorSpec(mode=mode, \n",
    "                                     predictions=tf.argmax(l_test, axis=1), \n",
    "                                     loss=loss_func, \n",
    "                                     train_op=training_func, \n",
    "                                     eval_metric_ops={'accuracy': accuracy_func})\n",
    "    \n",
    "model = tf.estimator.Estimator(model_fn)\n",
    "\n",
    "FEAT_NAME = 'images'\n",
    "mnist = input_data.read_data_sets(\"/tmp/data/\", one_hot=False)"
   ]
  },
  {
   "cell_type": "markdown",
   "metadata": {},
   "source": [
    "# DEFINING INPUT AND MODEL TRAINING"
   ]
  },
  {
   "cell_type": "code",
   "execution_count": 21,
   "metadata": {},
   "outputs": [],
   "source": [
    "train_input_fn = tf.estimator.inputs.numpy_input_fn(\n",
    "    x={FEAT_NAME:mnist.train.images},\n",
    "    y=mnist.train.labels,\n",
    "    batch_size=BATCH_SIZE,\n",
    "    num_epochs=None, \n",
    "    shuffle=True\n",
    ")\n",
    "\n",
    "test_input_fn = tf.estimator.inputs.numpy_input_fn(\n",
    "    x={FEAT_NAME: mnist.test.images}, y=mnist.test.labels,\n",
    "    batch_size=BATCH_SIZE, shuffle=False)"
   ]
  },
  {
   "cell_type": "code",
   "execution_count": 22,
   "metadata": {
    "scrolled": true
   },
   "outputs": [
    {
     "name": "stdout",
     "output_type": "stream",
     "text": [
      "INFO:tensorflow:Calling model_fn.\n",
      "INFO:tensorflow:Done calling model_fn.\n",
      "INFO:tensorflow:Create CheckpointSaverHook.\n",
      "INFO:tensorflow:Graph was finalized.\n",
      "INFO:tensorflow:Running local_init_op.\n",
      "INFO:tensorflow:Done running local_init_op.\n",
      "INFO:tensorflow:Saving checkpoints for 0 into C:\\Users\\micha\\AppData\\Local\\Temp\\tmp4rm850c0\\model.ckpt.\n",
      "INFO:tensorflow:loss = 2.2989922, step = 1\n",
      "INFO:tensorflow:global_step/sec: 26.6426\n",
      "INFO:tensorflow:loss = 0.18258509, step = 101 (3.756 sec)\n",
      "INFO:tensorflow:global_step/sec: 26.1478\n",
      "INFO:tensorflow:loss = 0.17597947, step = 201 (3.822 sec)\n",
      "INFO:tensorflow:global_step/sec: 26.5829\n",
      "INFO:tensorflow:loss = 0.10506825, step = 301 (3.763 sec)\n",
      "INFO:tensorflow:global_step/sec: 26.5646\n",
      "INFO:tensorflow:loss = 0.03280796, step = 401 (3.764 sec)\n",
      "INFO:tensorflow:global_step/sec: 27.0258\n",
      "INFO:tensorflow:loss = 0.053014863, step = 501 (3.701 sec)\n",
      "INFO:tensorflow:global_step/sec: 26.5951\n",
      "INFO:tensorflow:loss = 0.031329326, step = 601 (3.758 sec)\n",
      "INFO:tensorflow:global_step/sec: 25.5592\n",
      "INFO:tensorflow:loss = 0.106502615, step = 701 (3.913 sec)\n",
      "INFO:tensorflow:global_step/sec: 25.5708\n",
      "INFO:tensorflow:loss = 0.03722139, step = 801 (3.912 sec)\n",
      "INFO:tensorflow:global_step/sec: 23.818\n",
      "INFO:tensorflow:loss = 0.101310775, step = 901 (4.198 sec)\n",
      "INFO:tensorflow:global_step/sec: 22.754\n",
      "INFO:tensorflow:loss = 0.07088113, step = 1001 (4.394 sec)\n",
      "INFO:tensorflow:global_step/sec: 23.9118\n",
      "INFO:tensorflow:loss = 0.037489954, step = 1101 (4.182 sec)\n",
      "INFO:tensorflow:global_step/sec: 23.8823\n",
      "INFO:tensorflow:loss = 0.035416715, step = 1201 (4.186 sec)\n",
      "INFO:tensorflow:global_step/sec: 24.1376\n",
      "INFO:tensorflow:loss = 0.017598059, step = 1301 (4.145 sec)\n",
      "INFO:tensorflow:global_step/sec: 24.1772\n",
      "INFO:tensorflow:loss = 0.030089002, step = 1401 (4.136 sec)\n",
      "INFO:tensorflow:Saving checkpoints for 1500 into C:\\Users\\micha\\AppData\\Local\\Temp\\tmp4rm850c0\\model.ckpt.\n",
      "INFO:tensorflow:Loss for final step: 0.03977116.\n"
     ]
    },
    {
     "data": {
      "text/plain": [
       "<tensorflow_estimator.python.estimator.estimator.Estimator at 0x2488d93af98>"
      ]
     },
     "execution_count": 22,
     "metadata": {},
     "output_type": "execute_result"
    }
   ],
   "source": [
    "model.train(train_input_fn, steps=EPOCHS)"
   ]
  },
  {
   "cell_type": "markdown",
   "metadata": {},
   "source": [
    "# MODEL EVALUATION"
   ]
  },
  {
   "cell_type": "code",
   "execution_count": 23,
   "metadata": {},
   "outputs": [
    {
     "name": "stdout",
     "output_type": "stream",
     "text": [
      "INFO:tensorflow:Calling model_fn.\n",
      "INFO:tensorflow:Done calling model_fn.\n",
      "INFO:tensorflow:Starting evaluation at 2020-07-03T22:15:42Z\n",
      "INFO:tensorflow:Graph was finalized.\n",
      "INFO:tensorflow:Restoring parameters from C:\\Users\\micha\\AppData\\Local\\Temp\\tmp4rm850c0\\model.ckpt-1500\n",
      "INFO:tensorflow:Running local_init_op.\n",
      "INFO:tensorflow:Done running local_init_op.\n",
      "INFO:tensorflow:Finished evaluation at 2020-07-03-22:15:43\n",
      "INFO:tensorflow:Saving dict for global step 1500: accuracy = 0.9854, global_step = 1500, loss = 0.04327173\n",
      "INFO:tensorflow:Saving 'checkpoint_path' summary for global step 1500: C:\\Users\\micha\\AppData\\Local\\Temp\\tmp4rm850c0\\model.ckpt-1500\n"
     ]
    },
    {
     "data": {
      "text/plain": [
       "{'accuracy': 0.9854, 'loss': 0.04327173, 'global_step': 1500}"
      ]
     },
     "execution_count": 23,
     "metadata": {},
     "output_type": "execute_result"
    }
   ],
   "source": [
    "model.evaluate(test_input_fn)"
   ]
  }
 ],
 "metadata": {
  "kernelspec": {
   "display_name": "Python 3",
   "language": "python",
   "name": "python3"
  },
  "language_info": {
   "codemirror_mode": {
    "name": "ipython",
    "version": 3
   },
   "file_extension": ".py",
   "mimetype": "text/x-python",
   "name": "python",
   "nbconvert_exporter": "python",
   "pygments_lexer": "ipython3",
   "version": "3.6.8"
  }
 },
 "nbformat": 4,
 "nbformat_minor": 4
}
